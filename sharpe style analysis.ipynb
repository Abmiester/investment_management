{
 "cells": [
  {
   "cell_type": "markdown",
   "metadata": {},
   "source": [
    "# Sharpe Style Analysis\n",
    "Similar to previous decomposition exercise with the added constraint that all the coefficients are positive and add to 1.\n",
    "\n",
    "Coefficients of performing style analysis on the observed returns of a manager can be interpreted as weights in a portfolio of building blocks which together _mimic_ that series. Can reveal drifts in a manager's style as well as provide insight into what the manager is likely doing to obtain returns."
   ]
  },
  {
   "cell_type": "code",
   "execution_count": 5,
   "metadata": {},
   "outputs": [
    {
     "name": "stderr",
     "output_type": "stream",
     "text": [
      "/Library/Frameworks/Python.framework/Versions/3.6/lib/python3.6/importlib/_bootstrap.py:219: RuntimeWarning: numpy.ufunc size changed, may indicate binary incompatibility. Expected 192 from C header, got 216 from PyObject\n",
      "  return f(*args, **kwds)\n"
     ]
    }
   ],
   "source": [
    "%load_ext autoreload\n",
    "%autoreload 2\n",
    "\n",
    "import pandas as pd\n",
    "import numpy as np\n",
    "import edhec_risk_kit as erk\n",
    "import scipy.stats\n",
    "from scipy.optimize import minimize"
   ]
  },
  {
   "cell_type": "markdown",
   "metadata": {},
   "source": [
    "## Performing Sharpe Style Analysis\n",
    "Obtain weights using the quadratic optimizer; ask the optimizer to find weights that minimize the square of the difference between the observed series and the returns of a benchmark portfolio that holds the explanatory building blocks in those same weights. This is equivalent to minimizing the _tracking error_ between the two return series."
   ]
  },
  {
   "cell_type": "code",
   "execution_count": 6,
   "metadata": {},
   "outputs": [],
   "source": [
    "def portfolio_tracking_error(weights, ref_r, bb_r):\n",
    "    '''\n",
    "    returns the tracking error between the reference returns\n",
    "    and a portfolio of building block returns held with given weights\n",
    "    '''\n",
    "    return tracking_error(ref_r, (weights*bb_r).sum(axis=1))"
   ]
  },
  {
   "cell_type": "code",
   "execution_count": 7,
   "metadata": {},
   "outputs": [],
   "source": [
    "def style_analysis(dependent_variable, explanatory_variables):\n",
    "    '''\n",
    "    Returns the optimal weights that minimizes the tracking error between\n",
    "    a portfolio of the explanatory variables and the dependent variable\n",
    "    '''\n",
    "    n = explanatory_variables.shape[1]\n",
    "    init_guess = np.repeat(1/n, n)\n",
    "    bounds = ((0.0, 1.0),) * n\n",
    "    # construct the constraints\n",
    "    weights_sum_to_1 = {\n",
    "        'type': 'eq',\n",
    "        'fun': lambda weights: np.sum(weights) - 1\n",
    "    }\n",
    "    solution = minimize(portfolio_tracking_error,\n",
    "                       init_guess,\n",
    "                       args=(dependent_variable, explanatory_variables,),\n",
    "                       method='SLSQP',\n",
    "                       options={'disp': False},\n",
    "                       constraints=(weights_sum_to_1,),\n",
    "                       bounds=bounds)\n",
    "    weights = pd.Series(solution.x,\n",
    "                       index=explanatory_variables.columns)\n",
    "    return weights"
   ]
  },
  {
   "cell_type": "markdown",
   "metadata": {},
   "source": [
    "## Conduct style analysis"
   ]
  },
  {
   "cell_type": "code",
   "execution_count": 8,
   "metadata": {},
   "outputs": [],
   "source": [
    "ind = erk.get_ind_returns()['2000':]"
   ]
  },
  {
   "cell_type": "markdown",
   "metadata": {},
   "source": [
    "Construct a manager that invests in 30% beer, 50% smoke, and 20% in other things that have an average return of 0% and an annualized vol of 15%"
   ]
  },
  {
   "cell_type": "code",
   "execution_count": 9,
   "metadata": {},
   "outputs": [],
   "source": [
    "mgr_r = 0.3*ind['Beer'] + 0.5*ind['Smoke'] + 0.2*np.random.normal(scale=0.15/(12**0.5), size=ind.shape[0])"
   ]
  },
  {
   "cell_type": "markdown",
   "metadata": {},
   "source": [
    "Assume we know absolutely nothing about this manager and all we observe are the returns. How can we tell what's been invested in?"
   ]
  },
  {
   "cell_type": "code",
   "execution_count": 12,
   "metadata": {},
   "outputs": [],
   "source": [
    "weights = erk.style_analysis(mgr_r, ind)*100"
   ]
  },
  {
   "cell_type": "code",
   "execution_count": 15,
   "metadata": {},
   "outputs": [
    {
     "data": {
      "text/plain": [
       "<matplotlib.axes._subplots.AxesSubplot at 0x12b4ddcf8>"
      ]
     },
     "execution_count": 15,
     "metadata": {},
     "output_type": "execute_result"
    },
    {
     "data": {
      "image/png": "[encoded data removed]",
      "text/plain": [
       "<Figure size 432x288 with 1 Axes>"
      ]
     },
     "metadata": {
      "needs_background": "light"
     },
     "output_type": "display_data"
    }
   ],
   "source": [
    "weights.sort_values(ascending=False).head(6).plot.bar()"
   ]
  },
  {
   "cell_type": "markdown",
   "metadata": {},
   "source": [
    "Quick comparison with results of regression."
   ]
  },
  {
   "cell_type": "code",
   "execution_count": 17,
   "metadata": {},
   "outputs": [
    {
     "data": {
      "text/plain": [
       "Books   -3.722945\n",
       "Util    -2.645725\n",
       "Mines   -2.639322\n",
       "Servs   -1.376043\n",
       "Rtail   -1.215791\n",
       "dtype: float64"
      ]
     },
     "execution_count": 17,
     "metadata": {},
     "output_type": "execute_result"
    }
   ],
   "source": [
    "coeffs = erk.regress(mgr_r, ind).params*100\n",
    "coeffs.sort_values().head()"
   ]
  },
  {
   "cell_type": "code",
   "execution_count": 19,
   "metadata": {},
   "outputs": [
    {
     "data": {
      "text/plain": [
       "<matplotlib.axes._subplots.AxesSubplot at 0x12bb757b8>"
      ]
     },
     "execution_count": 19,
     "metadata": {},
     "output_type": "execute_result"
    },
    {
     "data": {
      "image/png": "[encoded data removed]",
      "text/plain": [
       "<Figure size 432x288 with 1 Axes>"
      ]
     },
     "metadata": {
      "needs_background": "light"
     },
     "output_type": "display_data"
    }
   ],
   "source": [
    "coeffs.sort_values(ascending=False).head(6).plot.bar()"
   ]
  },
  {
   "cell_type": "markdown",
   "metadata": {},
   "source": [
    "## Warning: Potential Misuse of Style Analysis\n",
    "Style analysis works best when the explanatory indices are in fact a good specification of what is happening. For instance, it usually gives a very useful and revealing insight if one uses a stock market index (ex: SPY) and other broad indices, ETFs or mutual funds (ex: Value Fund, Growth Fund, International Fund, Bond Fund etc.)\n",
    "\n",
    "Part of the skill of extracting meaningful results is to pick the right set of explanatory variables.\n",
    "\n",
    "However, a part of the challenge with style analysis is that it will always return a portfolio. Although it is possible to develop a figure of merit of fit quality similar to an R square, it will still always give you an answer however unreasonable it might be, and it's not always obvious how much one can rely on the result."
   ]
  }
 ],
 "metadata": {
  "kernelspec": {
   "display_name": "Python 3",
   "language": "python",
   "name": "python3"
  },
  "language_info": {
   "codemirror_mode": {
    "name": "ipython",
    "version": 3
   },
   "file_extension": ".py",
   "mimetype": "text/x-python",
   "name": "python",
   "nbconvert_exporter": "python",
   "pygments_lexer": "ipython3",
   "version": "3.6.6"
  }
 },
 "nbformat": 4,
 "nbformat_minor": 2
}
