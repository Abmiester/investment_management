{
 "cells": [
  {
   "cell_type": "markdown",
   "metadata": {},
   "source": [
    "# Black-Litterman (Bayesian Machinery)\n",
    "Reproducing the original Black-Litterman (Goldman Sachs working) paper."
   ]
  },
  {
   "cell_type": "code",
   "execution_count": 1,
   "metadata": {},
   "outputs": [],
   "source": [
    "import numpy as np\n",
    "import pandas as pd\n",
    "from numpy.linalg import inv"
   ]
  },
  {
   "cell_type": "code",
   "execution_count": 2,
   "metadata": {},
   "outputs": [],
   "source": [
    "def as_colvec(x):\n",
    "    if (x.ndim == 2):\n",
    "        return x\n",
    "    else:\n",
    "        return np.expand_dims(x, axis=1)"
   ]
  },
  {
   "cell_type": "code",
   "execution_count": 3,
   "metadata": {},
   "outputs": [
    {
     "data": {
      "text/plain": [
       "array([0, 1, 2, 3])"
      ]
     },
     "execution_count": 3,
     "metadata": {},
     "output_type": "execute_result"
    }
   ],
   "source": [
    "np.arange(4)"
   ]
  },
  {
   "cell_type": "code",
   "execution_count": 4,
   "metadata": {},
   "outputs": [
    {
     "data": {
      "text/plain": [
       "array([[0],\n",
       "       [1],\n",
       "       [2],\n",
       "       [3]])"
      ]
     },
     "execution_count": 4,
     "metadata": {},
     "output_type": "execute_result"
    }
   ],
   "source": [
    "# test out the function\n",
    "as_colvec(np.arange(4))"
   ]
  },
  {
   "cell_type": "code",
   "execution_count": 5,
   "metadata": {},
   "outputs": [],
   "source": [
    "# implied returns from the market portfolio weights\n",
    "def implied_returns(delta, sigma, w):\n",
    "    '''\n",
    "    Obtain the implied expected returns by reverse engineering the weights\n",
    "    Inputs:\n",
    "        delta: Risk Aversion Coefficient (scalar)\n",
    "        sigma: Variance-Covariance Matrix (N x N) as DataFrame\n",
    "        w: Portfolio weights (N x 1) as Series\n",
    "    Returns an N x 1 vector of returns as Series\n",
    "    '''\n",
    "    ir = delta * sigma.dot(w).squeeze() # squeeze() turns one column dataframe to series\n",
    "    ir.name = 'Implied Returns'\n",
    "    return ir"
   ]
  },
  {
   "cell_type": "code",
   "execution_count": 6,
   "metadata": {},
   "outputs": [],
   "source": [
    "# simplifying assumption that omega is proportional to the variance of the prior\n",
    "def proportional_prior(sigma, tau, p):\n",
    "    '''\n",
    "    Returns the He-Litterman simplified Omega\n",
    "    Inputs:\n",
    "        sigma: N x N Covariance Matrix as DataFrame\n",
    "        tau: a scalar\n",
    "        p: a K x N DataFrame linking Q and Assets\n",
    "    Returns a P x P DataFrame, a matrix representing prior uncertainties \n",
    "    '''\n",
    "    # can use .dot() or @ for matrix multiplication\n",
    "    helit_omega = p.dot(tau * sigma).dot(p.T)\n",
    "    return pd.DataFrame(np.diag(np.diag(helit_omega.values)), index=p.index, columns=p.index)"
   ]
  },
  {
   "cell_type": "code",
   "execution_count": 7,
   "metadata": {},
   "outputs": [],
   "source": [
    "def bl(w_prior, sigma_prior, p, q, omega=None, delta=2.5, tau=0.02):\n",
    "    '''\n",
    "    Computes the posterior expected returns based on the original black litterman reference model\n",
    "    Inputs:\n",
    "        w_prior must be an N x 1 vector of weights, a series\n",
    "        sigma_prior is an N x N covariance matrix, a DataFrame\n",
    "        p must be a K x N matrix linking Q and the Assets, a DataFrame\n",
    "        q must be K x 1 vector of views, a Series\n",
    "        omega must be a K x K matrix, a DataFrame or None\n",
    "        if omega is None, we assume it is proportional to variance of the prior\n",
    "        delta and tau are scalars\n",
    "    '''\n",
    "    if omega is None:\n",
    "        omega = proportional_prior(sigma_prior, tau, p)\n",
    "    # number of assets\n",
    "    N = w_prior.shape[0]\n",
    "    # number of views\n",
    "    K = q.shape[0]\n",
    "    # reverse engineer weights to get pi\n",
    "    pi = implied_returns(delta, sigma_prior, w_prior)\n",
    "    # scale sigma by uncertainty scaling factor\n",
    "    sigma_prior_scaled = tau * sigma_prior\n",
    "    # posterior estimate of mean by master formula\n",
    "    mu_bl = pi + sigma_prior_scaled.dot(p.T).dot(inv(p.dot(sigma_prior_scaled).dot(p.T) + omega).dot(q - p.dot(pi).values))\n",
    "    # posterior estimate of uncertainty of mu_bl\n",
    "    sigma_bl = sigma_prior + sigma_prior_scaled - sigma_prior_scaled.dot(p.T).dot(inv(p.dot(sigma_prior_scaled).dot(p.T) + omega)).dot(p).dot(sigma_prior_scaled)\n",
    "    return mu_bl, sigma_bl"
   ]
  },
  {
   "cell_type": "markdown",
   "metadata": {},
   "source": [
    "## Simple Example: Absolute Views\n",
    "Two asset example.\n",
    "Covariance matrix given:\n",
    "\n",
    "INTC 46.0 1.06\n",
    "\n",
    "PFE 1.06 5.33\n",
    "\n",
    "----------------------------------------------\n",
    "\n",
    "Intel (INTC) market capitalization = USD 80B\n",
    "\n",
    "Pfizer (PFE) market capitalization = USD 100B\n",
    "\n",
    "----------------------------------------------\n",
    "\n",
    "Thus, market cap portfolio weights:\n",
    "\n",
    "Wintc = 80/180 = 44%\n",
    "\n",
    "Wpfe = 100/180 = 56%"
   ]
  },
  {
   "cell_type": "code",
   "execution_count": 8,
   "metadata": {},
   "outputs": [
    {
     "data": {
      "text/plain": [
       "INTC    0.052084\n",
       "PFE     0.008628\n",
       "Name: Implied Returns, dtype: float64"
      ]
     },
     "execution_count": 8,
     "metadata": {},
     "output_type": "execute_result"
    }
   ],
   "source": [
    "tickers = ['INTC', 'PFE']\n",
    "s = pd.DataFrame([[46.0, 1.06], [1.06, 5.33]], index=tickers, columns=tickers) * 10e-4\n",
    "pi = implied_returns(delta=2.5, sigma=s, w=pd.Series([.44, .56], index=tickers))\n",
    "pi"
   ]
  },
  {
   "cell_type": "code",
   "execution_count": 9,
   "metadata": {},
   "outputs": [],
   "source": [
    "# for convenience and readability, define the inverse of a dataframe\n",
    "def inverse(d):\n",
    "    '''\n",
    "    Invert the dataframe by inverting the underlying matrix\n",
    "    '''\n",
    "    return pd.DataFrame(inv(d.values), index=d.columns, columns=d.index)\n",
    "\n",
    "\n",
    "def w_msr(sigma, mu, scale=True):\n",
    "    '''\n",
    "    No constrains on this max-sharpe ratio (unlike the previous one we wrote, which is constrained)\n",
    "    Optimal (Tangent/Max Sharpe Ratio) Portfolio weights by using the Markowitz Optimization Procedure\n",
    "        mu is the vector of excess expected returns\n",
    "        sigma must be an N x N matrix as a DataFrame and mu a column vector as a series\n",
    "    '''\n",
    "    w = inverse(sigma).dot(mu)\n",
    "    if scale:\n",
    "        w = w/sum(w) # assumes all w is positive\n",
    "    return w"
   ]
  },
  {
   "cell_type": "markdown",
   "metadata": {},
   "source": [
    "View: The investor expects Intel will return 2% and Pfizer will return 4%.\n",
    "\n",
    "By estimating the optimal weights obtained by naively implementing Markowitz procedure, the expected returns."
   ]
  },
  {
   "cell_type": "code",
   "execution_count": 10,
   "metadata": {},
   "outputs": [
    {
     "data": {
      "text/plain": [
       "INTC    0.034095\n",
       "PFE     0.965905\n",
       "dtype: float64"
      ]
     },
     "execution_count": 10,
     "metadata": {},
     "output_type": "execute_result"
    }
   ],
   "source": [
    "mu_exp = pd.Series([.02, .04], index=tickers)\n",
    "w_msr(s, mu_exp)"
   ]
  },
  {
   "cell_type": "code",
   "execution_count": 11,
   "metadata": {},
   "outputs": [
    {
     "data": {
      "text/plain": [
       "INTC    0.037622\n",
       "PFE     0.024111\n",
       "dtype: float64"
      ]
     },
     "execution_count": 11,
     "metadata": {},
     "output_type": "execute_result"
    }
   ],
   "source": [
    "# implementing black-litterman\n",
    "# Intel will return 2% and Pfizer will return 4%\n",
    "q = pd.Series({'INTC': 0.02, 'PFE': 0.04})\n",
    "\n",
    "# absolute views, the pick matrix\n",
    "p = pd.DataFrame([\n",
    "    {'INTC': 1, 'PFE': 0},\n",
    "    {'INTC': 0, 'PFE': 1}\n",
    "])\n",
    "\n",
    "# find expected returns\n",
    "bl_mu, bl_sigma = bl(w_prior=pd.Series({'INTC': .44, 'PFE': .56}), sigma_prior=s, p=p, q=q)\n",
    "\n",
    "bl_mu"
   ]
  },
  {
   "cell_type": "code",
   "execution_count": 12,
   "metadata": {},
   "outputs": [
    {
     "data": {
      "text/plain": [
       "INTC    0.140692\n",
       "PFE     0.859308\n",
       "dtype: float64"
      ]
     },
     "execution_count": 12,
     "metadata": {},
     "output_type": "execute_result"
    }
   ],
   "source": [
    "# using black letterman returns\n",
    "w_msr(bl_sigma, bl_mu)"
   ]
  },
  {
   "cell_type": "markdown",
   "metadata": {},
   "source": [
    "## Simple Example: Relative Views\n",
    "Intel will outperform Pfizer by 2%."
   ]
  },
  {
   "cell_type": "code",
   "execution_count": 13,
   "metadata": {},
   "outputs": [
    {
     "data": {
      "text/plain": [
       "INTC    0.052084\n",
       "PFE     0.008628\n",
       "Name: Implied Returns, dtype: float64"
      ]
     },
     "execution_count": 13,
     "metadata": {},
     "output_type": "execute_result"
    }
   ],
   "source": [
    "# expected returns from cap weights\n",
    "pi"
   ]
  },
  {
   "cell_type": "code",
   "execution_count": 14,
   "metadata": {},
   "outputs": [
    {
     "data": {
      "text/plain": [
       "INTC    0.041374\n",
       "PFE     0.009646\n",
       "dtype: float64"
      ]
     },
     "execution_count": 14,
     "metadata": {},
     "output_type": "execute_result"
    }
   ],
   "source": [
    "# implementing black-literman\n",
    "# Intel will outperform Pfizer by 2%\n",
    "q = pd.Series([0.02])\n",
    "\n",
    "# the pick matrix\n",
    "p = pd.DataFrame([\n",
    "    {'INTC': 1, 'PFE': -1}\n",
    "])\n",
    "\n",
    "# find expected returns\n",
    "bl_mu, bl_sigma = bl(w_prior=pd.Series({'INTC': .44, 'PFE': .56}), sigma_prior=s, p=p, q=q)\n",
    "\n",
    "bl_mu"
   ]
  },
  {
   "cell_type": "code",
   "execution_count": 15,
   "metadata": {},
   "outputs": [
    {
     "data": {
      "text/plain": [
       "0.043456"
      ]
     },
     "execution_count": 15,
     "metadata": {},
     "output_type": "execute_result"
    }
   ],
   "source": [
    "# expected difference between returns\n",
    "pi[0]-pi[1]"
   ]
  },
  {
   "cell_type": "code",
   "execution_count": 16,
   "metadata": {},
   "outputs": [
    {
     "data": {
      "text/plain": [
       "0.031728"
      ]
     },
     "execution_count": 16,
     "metadata": {},
     "output_type": "execute_result"
    }
   ],
   "source": [
    "# difference between expected black-litterman returns\n",
    "bl_mu[0]-bl_mu[1]"
   ]
  },
  {
   "cell_type": "markdown",
   "metadata": {},
   "source": [
    "We can see that the Black-Litterman spread is a blend between the market expected returns and investor view returns."
   ]
  },
  {
   "cell_type": "code",
   "execution_count": 17,
   "metadata": {},
   "outputs": [
    {
     "data": {
      "text/plain": [
       "INTC    0.347223\n",
       "PFE     0.652777\n",
       "dtype: float64"
      ]
     },
     "execution_count": 17,
     "metadata": {},
     "output_type": "execute_result"
    }
   ],
   "source": [
    "# using black litterman expected returns and covariance matrix\n",
    "w_msr(bl_sigma, bl_mu)"
   ]
  },
  {
   "cell_type": "markdown",
   "metadata": {},
   "source": [
    "## Reproducing He-Litterman Results\n",
    "This example involves allocation between 7 countries."
   ]
  },
  {
   "cell_type": "code",
   "execution_count": 18,
   "metadata": {},
   "outputs": [
    {
     "data": {
      "text/plain": [
       "AU    0.039376\n",
       "CA    0.069152\n",
       "FR    0.083581\n",
       "DE    0.090272\n",
       "JP    0.043028\n",
       "UK    0.067677\n",
       "US    0.075600\n",
       "Name: Implied Returns, dtype: float64"
      ]
     },
     "execution_count": 18,
     "metadata": {},
     "output_type": "execute_result"
    }
   ],
   "source": [
    "# the countries\n",
    "countries = ['AU', 'CA', 'FR', 'DE', 'JP', 'UK', 'US']\n",
    "\n",
    "# the correlation matrix\n",
    "rho = pd.DataFrame([\n",
    "    [1.00, 0.488, 0.478, 0.515, 0.439, 0.512, 0.491],\n",
    "    [0.488, 1.000, 0.664, 0.655, 0.310, 0.608, 0.779],\n",
    "    [0.478, 0.664, 1.000, 0.861, 0.355, 0.783, 0.668],\n",
    "    [0.515, 0.655, 0.861, 1.000, 0.354, 0.777, 0.653],\n",
    "    [0.439, 0.310, 0.355, 0.354, 1.000, 0.405, 0.306],\n",
    "    [0.512, 0.608, 0.783, 0.777, 0.405, 1.000, 0.652],\n",
    "    [0.491, 0.779, 0.668, 0.653, 0.306, 0.652, 1.000]\n",
    "], index=countries, columns=countries)\n",
    "\n",
    "# the volatilities\n",
    "vols = pd.DataFrame([0.160, 0.203, 0.248, 0.271, 0.210, 0.200, 0.187], index=countries, columns=['vol'])\n",
    "\n",
    "# the cap weights\n",
    "w_eq = pd.DataFrame([0.016, 0.022, 0.052, 0.055, 0.116, 0.124, 0.615], index=countries, columns=['CapWeight'])\n",
    "\n",
    "# compute covariance matrix\n",
    "sigma_prior = vols.dot(vols.T) * rho\n",
    "\n",
    "# compute pi and compare\n",
    "pi = implied_returns(delta=2.5, sigma=sigma_prior, w=w_eq)\n",
    "pi"
   ]
  },
  {
   "cell_type": "markdown",
   "metadata": {},
   "source": [
    "### View 1: Germany vs Rest of Europe\n",
    "Imposing the view that German equities will outperform the rest of Europe equities by 5%."
   ]
  },
  {
   "cell_type": "code",
   "execution_count": 19,
   "metadata": {},
   "outputs": [
    {
     "data": {
      "text/html": [
       "<div>\n",
       "<style scoped>\n",
       "    .dataframe tbody tr th:only-of-type {\n",
       "        vertical-align: middle;\n",
       "    }\n",
       "\n",
       "    .dataframe tbody tr th {\n",
       "        vertical-align: top;\n",
       "    }\n",
       "\n",
       "    .dataframe thead th {\n",
       "        text-align: right;\n",
       "    }\n",
       "</style>\n",
       "<table border=\"1\" class=\"dataframe\">\n",
       "  <thead>\n",
       "    <tr style=\"text-align: right;\">\n",
       "      <th></th>\n",
       "      <th>AU</th>\n",
       "      <th>CA</th>\n",
       "      <th>FR</th>\n",
       "      <th>DE</th>\n",
       "      <th>JP</th>\n",
       "      <th>UK</th>\n",
       "      <th>US</th>\n",
       "    </tr>\n",
       "  </thead>\n",
       "  <tbody>\n",
       "    <tr>\n",
       "      <th>0</th>\n",
       "      <td>0.0</td>\n",
       "      <td>0.0</td>\n",
       "      <td>-0.295455</td>\n",
       "      <td>1.0</td>\n",
       "      <td>0.0</td>\n",
       "      <td>-0.704545</td>\n",
       "      <td>0.0</td>\n",
       "    </tr>\n",
       "  </tbody>\n",
       "</table>\n",
       "</div>"
      ],
      "text/plain": [
       "    AU   CA        FR   DE   JP        UK   US\n",
       "0  0.0  0.0 -0.295455  1.0  0.0 -0.704545  0.0"
      ]
     },
     "execution_count": 19,
     "metadata": {},
     "output_type": "execute_result"
    }
   ],
   "source": [
    "# single view\n",
    "q = pd.Series([.05])\n",
    "\n",
    "# start with a single view, all zeros and overwrite specific view\n",
    "p = pd.DataFrame([0.]*len(countries), index=countries).T\n",
    "\n",
    "# find relative caps of FR and UK to split relative outperformance of DE\n",
    "w_fr = w_eq.loc['FR']/(w_eq.loc['FR']+w_eq.loc['UK'])\n",
    "w_uk = w_eq.loc['UK']/(w_eq.loc['FR']+w_eq.loc['UK'])\n",
    "p.loc[0, 'DE'] = 1.\n",
    "p.loc[0, 'FR'] = -w_fr.CapWeight\n",
    "p.loc[0, 'UK'] = -w_uk.CapWeight\n",
    "p"
   ]
  },
  {
   "cell_type": "code",
   "execution_count": 20,
   "metadata": {},
   "outputs": [
    {
     "data": {
      "text/plain": [
       "AU    0.043282\n",
       "CA    0.075758\n",
       "FR    0.092875\n",
       "DE    0.110375\n",
       "JP    0.045062\n",
       "UK    0.069529\n",
       "US    0.080694\n",
       "dtype: float64"
      ]
     },
     "execution_count": 20,
     "metadata": {},
     "output_type": "execute_result"
    }
   ],
   "source": [
    "delta = 2.5\n",
    "tau = 0.05\n",
    "# find black litterman expected returns\n",
    "bl_mu, bl_sigma = bl(w_eq, sigma_prior, p, q, tau=tau)\n",
    "bl_mu"
   ]
  },
  {
   "cell_type": "code",
   "execution_count": 21,
   "metadata": {},
   "outputs": [
    {
     "data": {
      "text/plain": [
       "AU    0.015238\n",
       "CA    0.020952\n",
       "FR   -0.039678\n",
       "DE    0.354295\n",
       "JP    0.110476\n",
       "UK   -0.094617\n",
       "US    0.585714\n",
       "dtype: float64"
      ]
     },
     "execution_count": 21,
     "metadata": {},
     "output_type": "execute_result"
    }
   ],
   "source": [
    "# the optimal portfolio\n",
    "def w_star(delta, sigma, mu):\n",
    "    return (inverse(sigma).dot(mu))/delta\n",
    "\n",
    "wstar = w_star(delta=2.5, sigma=bl_sigma, mu=bl_mu)\n",
    "wstar"
   ]
  },
  {
   "cell_type": "code",
   "execution_count": 22,
   "metadata": {},
   "outputs": [
    {
     "data": {
      "text/plain": [
       "AU   -0.000\n",
       "CA   -0.000\n",
       "FR   -0.089\n",
       "DE    0.302\n",
       "JP   -0.000\n",
       "UK   -0.213\n",
       "US    0.000\n",
       "dtype: float64"
      ]
     },
     "execution_count": 22,
     "metadata": {},
     "output_type": "execute_result"
    }
   ],
   "source": [
    "# difference of weights between optimal and equilibrium portfolios (unscaled weights)\n",
    "w_eq = w_msr(delta*sigma_prior, pi, scale=False)\n",
    "\n",
    "# display difference\n",
    "np.round(wstar - w_eq/(1+tau), 3)"
   ]
  },
  {
   "cell_type": "markdown",
   "metadata": {},
   "source": [
    "### View 2: Canada vs US\n",
    "Canadian equities will outperform US equities by 3%."
   ]
  },
  {
   "cell_type": "code",
   "execution_count": 23,
   "metadata": {},
   "outputs": [
    {
     "data": {
      "text/html": [
       "<div>\n",
       "<style scoped>\n",
       "    .dataframe tbody tr th:only-of-type {\n",
       "        vertical-align: middle;\n",
       "    }\n",
       "\n",
       "    .dataframe tbody tr th {\n",
       "        vertical-align: top;\n",
       "    }\n",
       "\n",
       "    .dataframe thead th {\n",
       "        text-align: right;\n",
       "    }\n",
       "</style>\n",
       "<table border=\"1\" class=\"dataframe\">\n",
       "  <thead>\n",
       "    <tr style=\"text-align: right;\">\n",
       "      <th></th>\n",
       "      <th>0</th>\n",
       "      <th>1</th>\n",
       "    </tr>\n",
       "  </thead>\n",
       "  <tbody>\n",
       "    <tr>\n",
       "      <th>AU</th>\n",
       "      <td>0.000000</td>\n",
       "      <td>0.0</td>\n",
       "    </tr>\n",
       "    <tr>\n",
       "      <th>CA</th>\n",
       "      <td>0.000000</td>\n",
       "      <td>1.0</td>\n",
       "    </tr>\n",
       "    <tr>\n",
       "      <th>FR</th>\n",
       "      <td>-0.295455</td>\n",
       "      <td>0.0</td>\n",
       "    </tr>\n",
       "    <tr>\n",
       "      <th>DE</th>\n",
       "      <td>1.000000</td>\n",
       "      <td>0.0</td>\n",
       "    </tr>\n",
       "    <tr>\n",
       "      <th>JP</th>\n",
       "      <td>0.000000</td>\n",
       "      <td>0.0</td>\n",
       "    </tr>\n",
       "    <tr>\n",
       "      <th>UK</th>\n",
       "      <td>-0.704545</td>\n",
       "      <td>0.0</td>\n",
       "    </tr>\n",
       "    <tr>\n",
       "      <th>US</th>\n",
       "      <td>0.000000</td>\n",
       "      <td>-1.0</td>\n",
       "    </tr>\n",
       "  </tbody>\n",
       "</table>\n",
       "</div>"
      ],
      "text/plain": [
       "           0    1\n",
       "AU  0.000000  0.0\n",
       "CA  0.000000  1.0\n",
       "FR -0.295455  0.0\n",
       "DE  1.000000  0.0\n",
       "JP  0.000000  0.0\n",
       "UK -0.704545  0.0\n",
       "US  0.000000 -1.0"
      ]
     },
     "execution_count": 23,
     "metadata": {},
     "output_type": "execute_result"
    }
   ],
   "source": [
    "view2 = pd.Series([.03], index=[1])\n",
    "q = q.append(view2)\n",
    "pick2 = pd.DataFrame([0.]*len(countries), index=countries, columns=[1]).T\n",
    "p = p.append(pick2)\n",
    "p.loc[1, 'CA']=1\n",
    "p.loc[1, 'US']=-1\n",
    "p.T"
   ]
  },
  {
   "cell_type": "code",
   "execution_count": 24,
   "metadata": {},
   "outputs": [
    {
     "data": {
      "text/plain": [
       "AU    0.044223\n",
       "CA    0.087300\n",
       "FR    0.094796\n",
       "DE    0.112107\n",
       "JP    0.046164\n",
       "UK    0.069718\n",
       "US    0.074817\n",
       "dtype: float64"
      ]
     },
     "execution_count": 24,
     "metadata": {},
     "output_type": "execute_result"
    }
   ],
   "source": [
    "# computing black-litterman weights\n",
    "bl_mu, bl_sigma = bl(w_eq, sigma_prior, p, q, tau=tau)\n",
    "bl_mu"
   ]
  },
  {
   "cell_type": "code",
   "execution_count": 25,
   "metadata": {},
   "outputs": [
    {
     "data": {
      "text/plain": [
       "AU    0.015238\n",
       "CA    0.418633\n",
       "FR   -0.034279\n",
       "DE    0.336020\n",
       "JP    0.110476\n",
       "UK   -0.081741\n",
       "US    0.188034\n",
       "dtype: float64"
      ]
     },
     "execution_count": 25,
     "metadata": {},
     "output_type": "execute_result"
    }
   ],
   "source": [
    "wstar = w_star(delta=2.5, sigma=bl_sigma, mu=bl_mu)\n",
    "wstar"
   ]
  },
  {
   "cell_type": "code",
   "execution_count": 26,
   "metadata": {},
   "outputs": [
    {
     "data": {
      "text/plain": [
       "AU    0.000\n",
       "CA    0.398\n",
       "FR   -0.084\n",
       "DE    0.284\n",
       "JP    0.000\n",
       "UK   -0.200\n",
       "US   -0.398\n",
       "dtype: float64"
      ]
     },
     "execution_count": 26,
     "metadata": {},
     "output_type": "execute_result"
    }
   ],
   "source": [
    "# difference of weights between optimal and equilibrium portfolios (unscaled weights)\n",
    "w_eq = w_msr(delta*sigma_prior, pi, scale=False)\n",
    "\n",
    "# display difference in weights\n",
    "np.round(wstar - w_eq/(1+tau), 3)"
   ]
  },
  {
   "cell_type": "markdown",
   "metadata": {},
   "source": [
    "### View 3: More bullish Canada vs US\n",
    "Canadian equities will outperform US equities by 4%."
   ]
  },
  {
   "cell_type": "code",
   "execution_count": 28,
   "metadata": {},
   "outputs": [
    {
     "data": {
      "text/plain": [
       "0    0.05\n",
       "1    0.04\n",
       "dtype: float64"
      ]
     },
     "execution_count": 28,
     "metadata": {},
     "output_type": "execute_result"
    }
   ],
   "source": [
    "q[1] = 0.04\n",
    "q"
   ]
  },
  {
   "cell_type": "markdown",
   "metadata": {},
   "source": [
    "P remains unchanged with respect to View 2, only Q was changed."
   ]
  },
  {
   "cell_type": "code",
   "execution_count": 29,
   "metadata": {},
   "outputs": [
    {
     "data": {
      "text/html": [
       "<div>\n",
       "<style scoped>\n",
       "    .dataframe tbody tr th:only-of-type {\n",
       "        vertical-align: middle;\n",
       "    }\n",
       "\n",
       "    .dataframe tbody tr th {\n",
       "        vertical-align: top;\n",
       "    }\n",
       "\n",
       "    .dataframe thead th {\n",
       "        text-align: right;\n",
       "    }\n",
       "</style>\n",
       "<table border=\"1\" class=\"dataframe\">\n",
       "  <thead>\n",
       "    <tr style=\"text-align: right;\">\n",
       "      <th></th>\n",
       "      <th>0</th>\n",
       "      <th>1</th>\n",
       "    </tr>\n",
       "  </thead>\n",
       "  <tbody>\n",
       "    <tr>\n",
       "      <th>AU</th>\n",
       "      <td>0.0</td>\n",
       "      <td>0.0</td>\n",
       "    </tr>\n",
       "    <tr>\n",
       "      <th>CA</th>\n",
       "      <td>0.0</td>\n",
       "      <td>1.0</td>\n",
       "    </tr>\n",
       "    <tr>\n",
       "      <th>FR</th>\n",
       "      <td>-0.0</td>\n",
       "      <td>0.0</td>\n",
       "    </tr>\n",
       "    <tr>\n",
       "      <th>DE</th>\n",
       "      <td>1.0</td>\n",
       "      <td>0.0</td>\n",
       "    </tr>\n",
       "    <tr>\n",
       "      <th>JP</th>\n",
       "      <td>0.0</td>\n",
       "      <td>0.0</td>\n",
       "    </tr>\n",
       "    <tr>\n",
       "      <th>UK</th>\n",
       "      <td>-1.0</td>\n",
       "      <td>0.0</td>\n",
       "    </tr>\n",
       "    <tr>\n",
       "      <th>US</th>\n",
       "      <td>0.0</td>\n",
       "      <td>-1.0</td>\n",
       "    </tr>\n",
       "  </tbody>\n",
       "</table>\n",
       "</div>"
      ],
      "text/plain": [
       "      0    1\n",
       "AU  0.0  0.0\n",
       "CA  0.0  1.0\n",
       "FR -0.0  0.0\n",
       "DE  1.0  0.0\n",
       "JP  0.0  0.0\n",
       "UK -1.0  0.0\n",
       "US  0.0 -1.0"
      ]
     },
     "execution_count": 29,
     "metadata": {},
     "output_type": "execute_result"
    }
   ],
   "source": [
    "np.round(p.T)"
   ]
  },
  {
   "cell_type": "code",
   "execution_count": 31,
   "metadata": {},
   "outputs": [
    {
     "data": {
      "text/plain": [
       "AU    0.044493\n",
       "CA    0.090604\n",
       "FR    0.095346\n",
       "DE    0.112603\n",
       "JP    0.046480\n",
       "UK    0.069772\n",
       "US    0.073135\n",
       "dtype: float64"
      ]
     },
     "execution_count": 31,
     "metadata": {},
     "output_type": "execute_result"
    }
   ],
   "source": [
    "bl_mu, bl_sigma = bl(w_eq, sigma_prior, p, q, tau=tau)\n",
    "bl_mu"
   ]
  },
  {
   "cell_type": "code",
   "execution_count": 32,
   "metadata": {},
   "outputs": [
    {
     "data": {
      "text/plain": [
       "AU    0.015238\n",
       "CA    0.533479\n",
       "FR   -0.032719\n",
       "DE    0.330743\n",
       "JP    0.110476\n",
       "UK   -0.078023\n",
       "US    0.073187\n",
       "dtype: float64"
      ]
     },
     "execution_count": 32,
     "metadata": {},
     "output_type": "execute_result"
    }
   ],
   "source": [
    "wstar = w_star(delta=2.5, sigma=bl_sigma, mu=bl_mu)\n",
    "wstar"
   ]
  },
  {
   "cell_type": "code",
   "execution_count": 33,
   "metadata": {},
   "outputs": [
    {
     "data": {
      "text/plain": [
       "AU    0.000\n",
       "CA    0.513\n",
       "FR   -0.082\n",
       "DE    0.278\n",
       "JP    0.000\n",
       "UK   -0.196\n",
       "US   -0.513\n",
       "dtype: float64"
      ]
     },
     "execution_count": 33,
     "metadata": {},
     "output_type": "execute_result"
    }
   ],
   "source": [
    "# difference in weights between optimal and equilibrium portfolios (unscaled weights)\n",
    "w_eq = w_msr(delta*sigma_prior, pi, scale=False)\n",
    "\n",
    "# display difference in weights\n",
    "np.round(wstar - w_eq/(1+tau), 3)"
   ]
  },
  {
   "cell_type": "markdown",
   "metadata": {},
   "source": [
    "### View 4: Increasing view uncertainty\n",
    "Demonstrating the effect of omega.\n",
    "\n",
    "Compute the default value of omega, and then increase the uncertainty associated with the first view alone."
   ]
  },
  {
   "cell_type": "code",
   "execution_count": 34,
   "metadata": {},
   "outputs": [
    {
     "data": {
      "text/html": [
       "<div>\n",
       "<style scoped>\n",
       "    .dataframe tbody tr th:only-of-type {\n",
       "        vertical-align: middle;\n",
       "    }\n",
       "\n",
       "    .dataframe tbody tr th {\n",
       "        vertical-align: top;\n",
       "    }\n",
       "\n",
       "    .dataframe thead th {\n",
       "        text-align: right;\n",
       "    }\n",
       "</style>\n",
       "<table border=\"1\" class=\"dataframe\">\n",
       "  <thead>\n",
       "    <tr style=\"text-align: right;\">\n",
       "      <th></th>\n",
       "      <th>0</th>\n",
       "      <th>1</th>\n",
       "    </tr>\n",
       "  </thead>\n",
       "  <tbody>\n",
       "    <tr>\n",
       "      <th>AU</th>\n",
       "      <td>0.000000</td>\n",
       "      <td>0.0</td>\n",
       "    </tr>\n",
       "    <tr>\n",
       "      <th>CA</th>\n",
       "      <td>0.000000</td>\n",
       "      <td>1.0</td>\n",
       "    </tr>\n",
       "    <tr>\n",
       "      <th>FR</th>\n",
       "      <td>-0.295455</td>\n",
       "      <td>0.0</td>\n",
       "    </tr>\n",
       "    <tr>\n",
       "      <th>DE</th>\n",
       "      <td>1.000000</td>\n",
       "      <td>0.0</td>\n",
       "    </tr>\n",
       "    <tr>\n",
       "      <th>JP</th>\n",
       "      <td>0.000000</td>\n",
       "      <td>0.0</td>\n",
       "    </tr>\n",
       "    <tr>\n",
       "      <th>UK</th>\n",
       "      <td>-0.704545</td>\n",
       "      <td>0.0</td>\n",
       "    </tr>\n",
       "    <tr>\n",
       "      <th>US</th>\n",
       "      <td>0.000000</td>\n",
       "      <td>-1.0</td>\n",
       "    </tr>\n",
       "  </tbody>\n",
       "</table>\n",
       "</div>"
      ],
      "text/plain": [
       "           0    1\n",
       "AU  0.000000  0.0\n",
       "CA  0.000000  1.0\n",
       "FR -0.295455  0.0\n",
       "DE  1.000000  0.0\n",
       "JP  0.000000  0.0\n",
       "UK -0.704545  0.0\n",
       "US  0.000000 -1.0"
      ]
     },
     "execution_count": 34,
     "metadata": {},
     "output_type": "execute_result"
    }
   ],
   "source": [
    "# default Proportional to Prior assumption\n",
    "omega = proportional_prior(sigma_prior, tau, p)\n",
    "\n",
    "# double uncertainty associated with View 1\n",
    "omega.iloc[0, 0] = 2*omega.iloc[0, 0]\n",
    "p.T"
   ]
  },
  {
   "cell_type": "code",
   "execution_count": 36,
   "metadata": {},
   "outputs": [
    {
     "data": {
      "text/plain": [
       "AU    0.043312\n",
       "CA    0.088738\n",
       "FR    0.092532\n",
       "DE    0.106485\n",
       "JP    0.045873\n",
       "UK    0.069209\n",
       "US    0.071501\n",
       "dtype: float64"
      ]
     },
     "execution_count": 36,
     "metadata": {},
     "output_type": "execute_result"
    }
   ],
   "source": [
    "bl_mu, bl_sigma = bl(w_eq, sigma_prior, p, q, tau=tau, omega=omega)\n",
    "bl_mu"
   ]
  },
  {
   "cell_type": "code",
   "execution_count": 37,
   "metadata": {},
   "outputs": [
    {
     "data": {
      "text/plain": [
       "AU    0.015238\n",
       "CA    0.538906\n",
       "FR   -0.004814\n",
       "DE    0.236294\n",
       "JP    0.110476\n",
       "UK   -0.011480\n",
       "US    0.067761\n",
       "dtype: float64"
      ]
     },
     "execution_count": 37,
     "metadata": {},
     "output_type": "execute_result"
    }
   ],
   "source": [
    "wstar = w_star(delta=2.5, sigma=bl_sigma, mu=bl_mu)\n",
    "wstar"
   ]
  },
  {
   "cell_type": "code",
   "execution_count": 38,
   "metadata": {},
   "outputs": [
    {
     "data": {
      "text/plain": [
       "AU   -0.000\n",
       "CA    0.518\n",
       "FR   -0.054\n",
       "DE    0.184\n",
       "JP    0.000\n",
       "UK   -0.130\n",
       "US   -0.518\n",
       "dtype: float64"
      ]
     },
     "execution_count": 38,
     "metadata": {},
     "output_type": "execute_result"
    }
   ],
   "source": [
    "# difference in weights between optimal and equilibrium portfolios\n",
    "w_eq = w_msr(delta*sigma_prior, pi, scale=False)\n",
    "\n",
    "# display difference in weights\n",
    "np.round(wstar-w_eq/(1+tau), 3)"
   ]
  }
 ],
 "metadata": {
  "kernelspec": {
   "display_name": "Python 3",
   "language": "python",
   "name": "python3"
  },
  "language_info": {
   "codemirror_mode": {
    "name": "ipython",
    "version": 3
   },
   "file_extension": ".py",
   "mimetype": "text/x-python",
   "name": "python",
   "nbconvert_exporter": "python",
   "pygments_lexer": "ipython3",
   "version": "3.6.6"
  }
 },
 "nbformat": 4,
 "nbformat_minor": 2
}
